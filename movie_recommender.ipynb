{
 "cells": [
  {
   "cell_type": "code",
   "execution_count": null,
   "id": "d2b26f68-e03d-4d76-bb50-e693ef3dfb1f",
   "metadata": {},
   "outputs": [],
   "source": [
    "import numpy as np \n",
    "import pandas as pd"
   ]
  },
  {
   "cell_type": "code",
   "execution_count": null,
   "id": "46eaffc5-ca2d-414f-9a03-caa04995218a",
   "metadata": {},
   "outputs": [],
   "source": [
    "movies=pd.read_csv('tmdb_5000_movies.csv')\n",
    "credits=pd.read_csv('tmdb_5000_credits.csv')"
   ]
  },
  {
   "cell_type": "code",
   "execution_count": null,
   "id": "d72a828b-1622-4077-9427-266b15547486",
   "metadata": {},
   "outputs": [],
   "source": [
    "movies.head()"
   ]
  },
  {
   "cell_type": "code",
   "execution_count": null,
   "id": "057bd844-fead-4b75-adda-fb9f30083433",
   "metadata": {},
   "outputs": [],
   "source": [
    "credits.head()"
   ]
  },
  {
   "cell_type": "code",
   "execution_count": null,
   "id": "8c6aebea-201c-461a-a53c-756d7f76764d",
   "metadata": {},
   "outputs": [],
   "source": [
    "movies=movies.merge(credits,on='title')"
   ]
  },
  {
   "cell_type": "code",
   "execution_count": null,
   "id": "be71d4e9-ca81-4754-947a-f00dac73f4b1",
   "metadata": {},
   "outputs": [],
   "source": [
    "movies.head()"
   ]
  },
  {
   "cell_type": "code",
   "execution_count": null,
   "id": "8c95bcfc-0a83-4e80-bf7f-5d07bab22959",
   "metadata": {},
   "outputs": [],
   "source": []
  },
  {
   "cell_type": "code",
   "execution_count": null,
   "id": "a76a37c0-1caf-423a-a08c-c795a01206f8",
   "metadata": {},
   "outputs": [],
   "source": [
    "#geners\n",
    "#id\n",
    "#keywords\n",
    "#title\n",
    "#overview\n",
    "#cast\n",
    "#crew\n",
    "movies=movies[['movie_id','title','overview','genres','keywords','cast','crew']]"
   ]
  },
  {
   "cell_type": "code",
   "execution_count": null,
   "id": "f75f7a68-abc0-489d-9d52-28838a43e40a",
   "metadata": {},
   "outputs": [],
   "source": [
    "movies.info()"
   ]
  },
  {
   "cell_type": "code",
   "execution_count": null,
   "id": "cc63999f-5521-42f9-8746-87c714722223",
   "metadata": {},
   "outputs": [],
   "source": [
    "movies.head()"
   ]
  },
  {
   "cell_type": "code",
   "execution_count": null,
   "id": "ee8ac116-12f1-49bb-905b-1460d5cc8756",
   "metadata": {},
   "outputs": [],
   "source": [
    "movies.isnull().sum()"
   ]
  },
  {
   "cell_type": "code",
   "execution_count": null,
   "id": "e25b0926-dac3-4d60-a00b-15221728d9ea",
   "metadata": {},
   "outputs": [],
   "source": [
    "movies.dropna(inplace=True)"
   ]
  },
  {
   "cell_type": "code",
   "execution_count": null,
   "id": "e86432c8-7f3e-498e-bb2b-1803ce11b2d0",
   "metadata": {},
   "outputs": [],
   "source": [
    "movies.duplicated().sum()"
   ]
  },
  {
   "cell_type": "code",
   "execution_count": null,
   "id": "3cb2aa26-c44d-4e80-8d45-8deeef1c3ca6",
   "metadata": {},
   "outputs": [],
   "source": [
    "movies.iloc[0].genres"
   ]
  },
  {
   "cell_type": "code",
   "execution_count": null,
   "id": "f13e92ed-6e73-4519-a738-b017cd55b0c3",
   "metadata": {},
   "outputs": [],
   "source": [
    "import ast\n",
    "def convert(obj):\n",
    "    L=[]\n",
    "    for i in ast.literal_eval(obj):\n",
    "       L.append(i['name'])\n",
    "    return L"
   ]
  },
  {
   "cell_type": "code",
   "execution_count": null,
   "id": "91282f54-db54-45ef-8c67-fb8a36270156",
   "metadata": {},
   "outputs": [],
   "source": [
    "movies['genres']=movies['genres'].apply(convert)"
   ]
  },
  {
   "cell_type": "code",
   "execution_count": null,
   "id": "dae61830-7c3b-4506-9bb7-a61407a69922",
   "metadata": {},
   "outputs": [],
   "source": []
  },
  {
   "cell_type": "code",
   "execution_count": null,
   "id": "58d8a484-10b4-4701-a926-ae7e6b044b8c",
   "metadata": {},
   "outputs": [],
   "source": [
    "movies['keywords']=movies['keywords'].apply(convert)"
   ]
  },
  {
   "cell_type": "code",
   "execution_count": null,
   "id": "94574532-ddf8-4a86-90ca-ce6b6d1519da",
   "metadata": {},
   "outputs": [],
   "source": [
    "import ast\n",
    "def convert3(obj):\n",
    "    L=[]\n",
    "    counter=0\n",
    "    for i in ast.literal_eval(obj):\n",
    "        if counter !=3:\n",
    "           L.append(i['name'])\n",
    "        else:\n",
    "            break\n",
    "    return L"
   ]
  },
  {
   "cell_type": "code",
   "execution_count": null,
   "id": "9fe3a4c6-5061-49ff-b29a-e8283cdaaf04",
   "metadata": {},
   "outputs": [],
   "source": [
    "movies['cast']=movies['cast'].apply(convert3)"
   ]
  },
  {
   "cell_type": "code",
   "execution_count": null,
   "id": "3fa89d40-234a-44d3-9f2c-a29042e2665a",
   "metadata": {},
   "outputs": [],
   "source": [
    "movies['crew'][0]"
   ]
  },
  {
   "cell_type": "code",
   "execution_count": null,
   "id": "9744cb2c-c28a-43d5-b843-a1c81d1b4485",
   "metadata": {},
   "outputs": [],
   "source": [
    "def fetch_director(obj):\n",
    "    L=[]\n",
    "    for i in ast.literal_eval(obj):\n",
    "        if i['job']=='Director':           \n",
    "            L.append(i['name'])\n",
    "            break\n",
    "    return L"
   ]
  },
  {
   "cell_type": "code",
   "execution_count": null,
   "id": "30e0978c-1a3e-4598-ae27-7d12cbd0590d",
   "metadata": {},
   "outputs": [],
   "source": [
    "movies['crew']=movies['crew'].apply(fetch_director)"
   ]
  },
  {
   "cell_type": "code",
   "execution_count": null,
   "id": "3720ba61-4b1f-4525-87d6-eca48cfa0cba",
   "metadata": {},
   "outputs": [],
   "source": [
    "movies['overview'][0]"
   ]
  },
  {
   "cell_type": "code",
   "execution_count": null,
   "id": "620b1118-0e90-4c3c-99ab-a20437ef22a5",
   "metadata": {},
   "outputs": [],
   "source": [
    "movies['overview']=movies['overview'].apply(lambda x:x.split())"
   ]
  },
  {
   "cell_type": "code",
   "execution_count": null,
   "id": "fcbc82bb-7b4a-4fa3-8188-e4df77a44f29",
   "metadata": {},
   "outputs": [],
   "source": [
    "movies.head()"
   ]
  },
  {
   "cell_type": "code",
   "execution_count": null,
   "id": "26313ee0-6d49-43bd-98b3-5be6a270b796",
   "metadata": {},
   "outputs": [],
   "source": [
    "movies['genres']=movies['genres'].apply(lambda x:[i.replace(\" \",\"\")for i in x])\n",
    "movies['keywords']=movies['keywords'].apply(lambda x:[i.replace(\" \",\"\")for i in x])\n",
    "movies['cast']=movies['cast'].apply(lambda x:[i.replace(\" \",\"\")for i in x])\n",
    "movies['crew']=movies['crew'].apply(lambda x:[i.replace(\" \",\"\")for i in x])"
   ]
  },
  {
   "cell_type": "code",
   "execution_count": null,
   "id": "e0415629-dffa-479d-8bb9-1882502ed997",
   "metadata": {},
   "outputs": [],
   "source": [
    "movies.head()"
   ]
  },
  {
   "cell_type": "code",
   "execution_count": null,
   "id": "119c91b7-33ab-4ca1-b934-14982edd8ae3",
   "metadata": {},
   "outputs": [],
   "source": [
    "movies['tags']=movies['overview']+movies['genres']+movies['keywords']+movies['cast']+movies['crew']"
   ]
  },
  {
   "cell_type": "code",
   "execution_count": null,
   "id": "5cafc869-dc77-4bf2-be16-a8cfb5c43c75",
   "metadata": {},
   "outputs": [],
   "source": [
    "new_df=movies[['movie_id','title','tags']]"
   ]
  },
  {
   "cell_type": "code",
   "execution_count": null,
   "id": "46bb56e3-1127-44a5-946c-0d46dd3ee0c5",
   "metadata": {},
   "outputs": [],
   "source": [
    "new_df['tags']=new_df['tags'].apply(lambda x:\" \".join(x))"
   ]
  },
  {
   "cell_type": "code",
   "execution_count": null,
   "id": "da4e96f9-5e6e-4f40-924e-f9029d8fd50b",
   "metadata": {},
   "outputs": [],
   "source": []
  },
  {
   "cell_type": "code",
   "execution_count": null,
   "id": "70bb11b1-ce12-4c89-850b-c26f2d872261",
   "metadata": {},
   "outputs": [],
   "source": [
    "new_df['tags']=new_df['tags'].apply(lambda x:x.lower())"
   ]
  },
  {
   "cell_type": "code",
   "execution_count": null,
   "id": "9fe7b977-8ae0-4c2b-b6d7-b239fef94b0c",
   "metadata": {},
   "outputs": [],
   "source": [
    "new_df.head()"
   ]
  },
  {
   "cell_type": "code",
   "execution_count": null,
   "id": "e3cfd312-7b86-4b0c-ab46-488b774a3f0d",
   "metadata": {},
   "outputs": [],
   "source": [
    "import nltk\n",
    "from nltk.stem.porter import PorterStemmer\n",
    "ps=PorterStemmer()"
   ]
  },
  {
   "cell_type": "code",
   "execution_count": null,
   "id": "5da9912f-56e9-4d82-9dd1-14c92a9fae70",
   "metadata": {},
   "outputs": [],
   "source": [
    "def stem(text):\n",
    "    y=[]\n",
    "    for i in text.split():\n",
    "       y.append(ps.stem(i))\n",
    "    return \" \".join(y)"
   ]
  },
  {
   "cell_type": "code",
   "execution_count": null,
   "id": "b7611676-6fe6-4f91-9479-1e3ebdf5f1ba",
   "metadata": {
    "scrolled": true
   },
   "outputs": [],
   "source": [
    "new_df['tags']=new_df['tags'].apply(stem)"
   ]
  },
  {
   "cell_type": "code",
   "execution_count": null,
   "id": "e7baf3ea-021c-44d8-9b72-c1c9ca19e0de",
   "metadata": {},
   "outputs": [],
   "source": [
    "from sklearn.feature_extraction.text import CountVectorizer"
   ]
  },
  {
   "cell_type": "code",
   "execution_count": null,
   "id": "de13eeec-435e-4ee7-9382-e6dec20b04be",
   "metadata": {},
   "outputs": [],
   "source": [
    "cv=CountVectorizer(max_features=5000,stop_words='english')"
   ]
  },
  {
   "cell_type": "code",
   "execution_count": null,
   "id": "1949d925-282b-417b-8447-6fab9d8142fa",
   "metadata": {},
   "outputs": [],
   "source": [
    "vectors=cv.fit_transform(new_df['tags']).toarray()"
   ]
  },
  {
   "cell_type": "code",
   "execution_count": null,
   "id": "ae4b733d-2421-462d-b426-9d11900af0e7",
   "metadata": {},
   "outputs": [],
   "source": [
    "vectors"
   ]
  },
  {
   "cell_type": "code",
   "execution_count": null,
   "id": "dd0f532e-cdb3-41dc-9860-fa030bf4d5db",
   "metadata": {},
   "outputs": [],
   "source": [
    "cv.get_feature_names_out() #all 5000 feature out"
   ]
  },
  {
   "cell_type": "code",
   "execution_count": null,
   "id": "de23b652-7b3c-44ec-874c-a6bb167d2bcf",
   "metadata": {},
   "outputs": [],
   "source": [
    "from sklearn.metrics.pairwise import cosine_similarity"
   ]
  },
  {
   "cell_type": "code",
   "execution_count": null,
   "id": "2c1ace3e-ff96-4829-8556-ea26c97cc696",
   "metadata": {},
   "outputs": [],
   "source": [
    "similarity=cosine_similarity(vectors) "
   ]
  },
  {
   "cell_type": "code",
   "execution_count": null,
   "id": "6f33da63-b730-4953-b797-68f90db4cfcf",
   "metadata": {},
   "outputs": [],
   "source": [
    "cosine_similarity(vectors).shape"
   ]
  },
  {
   "cell_type": "code",
   "execution_count": null,
   "id": "ddcc0fbf-ef24-434e-a331-717e0bcd7a16",
   "metadata": {},
   "outputs": [],
   "source": [
    "similarity"
   ]
  },
  {
   "cell_type": "code",
   "execution_count": null,
   "id": "f45fe264-7b66-42da-ac23-2d5d8bc7cb31",
   "metadata": {},
   "outputs": [],
   "source": []
  }
 ],
 "metadata": {
  "kernelspec": {
   "display_name": "Python (base - Miniconda)",
   "language": "python",
   "name": "base"
  },
  "language_info": {
   "codemirror_mode": {
    "name": "ipython",
    "version": 3
   },
   "file_extension": ".py",
   "mimetype": "text/x-python",
   "name": "python",
   "nbconvert_exporter": "python",
   "pygments_lexer": "ipython3",
   "version": "3.12.9"
  }
 },
 "nbformat": 4,
 "nbformat_minor": 5
}
